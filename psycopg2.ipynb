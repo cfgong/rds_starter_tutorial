{
 "cells": [
  {
   "cell_type": "code",
   "execution_count": 1,
   "metadata": {},
   "outputs": [],
   "source": [
    "import pandas as pd\n",
    "import psycopg2"
   ]
  },
  {
   "cell_type": "markdown",
   "metadata": {},
   "source": [
    "Set up a connection to the database"
   ]
  },
  {
   "cell_type": "code",
   "execution_count": null,
   "metadata": {},
   "outputs": [],
   "source": [
    "connection = psycopg2.connect(host = <aws_endpoint>,\n",
    "                              port = <port_number>,\n",
    "                              user = <master_username>\n",
    "                              password = <master_password>,\n",
    "                              dbname = <database_name>)\n",
    "\n",
    "cursor = connection.cursor()"
   ]
  },
  {
   "cell_type": "markdown",
   "metadata": {},
   "source": [
    "Helper functions for reading and writing from database"
   ]
  },
  {
   "cell_type": "code",
   "execution_count": 3,
   "metadata": {},
   "outputs": [],
   "source": [
    "def read_try(sql):\n",
    "    try:\n",
    "        df = pd.read_sql(sql, con=connection)\n",
    "        return pd.DataFrame() if df.empty else df\n",
    "    except Exception as e:\n",
    "        print(\"READ ERROR\", e)\n",
    "        return pd.DataFrame()\n",
    "\n",
    "def write_try(sql):\n",
    "    try:\n",
    "        cursor.execute(sql)  # run a psql command\n",
    "        return True\n",
    "    except Exception as e:\n",
    "        print(\"WRITE ERROR: \", e)\n",
    "        return False\n",
    "    finally:\n",
    "        connection.commit()"
   ]
  },
  {
   "cell_type": "markdown",
   "metadata": {},
   "source": [
    "Create _company_ and _employee_ tables."
   ]
  },
  {
   "cell_type": "code",
   "execution_count": 4,
   "metadata": {
    "scrolled": false
   },
   "outputs": [
    {
     "data": {
      "text/plain": [
       "True"
      ]
     },
     "execution_count": 4,
     "metadata": {},
     "output_type": "execute_result"
    }
   ],
   "source": [
    "sql = '''CREATE TABLE company (\n",
    "   name VARCHAR(280) PRIMARY KEY\n",
    ");'''\n",
    "write_try(sql)\n",
    "\n",
    "sql = '''CREATE TABLE employee (\n",
    "   id SERIAL,\n",
    "   company_name VARCHAR(280) NOT NULL,\n",
    "   PRIMARY KEY (id, company_name),\n",
    "   name VARCHAR(280),\n",
    "   role VARCHAR(280),\n",
    "   CONSTRAINT company_name_fkey FOREIGN KEY (company_name)\n",
    "        REFERENCES company (name) MATCH SIMPLE\n",
    "        ON UPDATE NO ACTION ON DELETE NO ACTION\n",
    ");'''\n",
    "write_try(sql)"
   ]
  },
  {
   "cell_type": "markdown",
   "metadata": {},
   "source": [
    "Write records to tables. "
   ]
  },
  {
   "cell_type": "code",
   "execution_count": 5,
   "metadata": {},
   "outputs": [
    {
     "data": {
      "text/plain": [
       "True"
      ]
     },
     "execution_count": 5,
     "metadata": {},
     "output_type": "execute_result"
    }
   ],
   "source": [
    "sql = '''INSERT INTO company VALUES\n",
    "                           ('headbook'),\n",
    "                           ('doogle');'''\n",
    "write_try(sql)\n",
    "\n",
    "sql = '''INSERT INTO employee (company_name, name, role)\n",
    "VALUES\n",
    "       ('headbook', 'John Smith', 'CEO'),\n",
    "       ('headbook', 'Jane Doe', 'VP of Technology'),\n",
    "       ('doogle', 'Jane Doe', 'CEO'),\n",
    "       ('doogle', 'John Smith', 'VP of Technology');'''\n",
    "write_try(sql)"
   ]
  },
  {
   "cell_type": "markdown",
   "metadata": {},
   "source": [
    "Read from tables. "
   ]
  },
  {
   "cell_type": "code",
   "execution_count": 6,
   "metadata": {},
   "outputs": [
    {
     "data": {
      "text/html": [
       "<div>\n",
       "<style scoped>\n",
       "    .dataframe tbody tr th:only-of-type {\n",
       "        vertical-align: middle;\n",
       "    }\n",
       "\n",
       "    .dataframe tbody tr th {\n",
       "        vertical-align: top;\n",
       "    }\n",
       "\n",
       "    .dataframe thead th {\n",
       "        text-align: right;\n",
       "    }\n",
       "</style>\n",
       "<table border=\"1\" class=\"dataframe\">\n",
       "  <thead>\n",
       "    <tr style=\"text-align: right;\">\n",
       "      <th></th>\n",
       "      <th>name</th>\n",
       "    </tr>\n",
       "  </thead>\n",
       "  <tbody>\n",
       "    <tr>\n",
       "      <td>0</td>\n",
       "      <td>headbook</td>\n",
       "    </tr>\n",
       "    <tr>\n",
       "      <td>1</td>\n",
       "      <td>doogle</td>\n",
       "    </tr>\n",
       "  </tbody>\n",
       "</table>\n",
       "</div>"
      ],
      "text/plain": [
       "       name\n",
       "0  headbook\n",
       "1    doogle"
      ]
     },
     "execution_count": 6,
     "metadata": {},
     "output_type": "execute_result"
    }
   ],
   "source": [
    "sql = '''SELECT * FROM company;'''\n",
    "read_try(sql)"
   ]
  },
  {
   "cell_type": "code",
   "execution_count": 7,
   "metadata": {},
   "outputs": [
    {
     "data": {
      "text/html": [
       "<div>\n",
       "<style scoped>\n",
       "    .dataframe tbody tr th:only-of-type {\n",
       "        vertical-align: middle;\n",
       "    }\n",
       "\n",
       "    .dataframe tbody tr th {\n",
       "        vertical-align: top;\n",
       "    }\n",
       "\n",
       "    .dataframe thead th {\n",
       "        text-align: right;\n",
       "    }\n",
       "</style>\n",
       "<table border=\"1\" class=\"dataframe\">\n",
       "  <thead>\n",
       "    <tr style=\"text-align: right;\">\n",
       "      <th></th>\n",
       "      <th>id</th>\n",
       "      <th>company_name</th>\n",
       "      <th>name</th>\n",
       "      <th>role</th>\n",
       "    </tr>\n",
       "  </thead>\n",
       "  <tbody>\n",
       "    <tr>\n",
       "      <td>0</td>\n",
       "      <td>1</td>\n",
       "      <td>headbook</td>\n",
       "      <td>John Smith</td>\n",
       "      <td>CEO</td>\n",
       "    </tr>\n",
       "    <tr>\n",
       "      <td>1</td>\n",
       "      <td>2</td>\n",
       "      <td>headbook</td>\n",
       "      <td>Jane Doe</td>\n",
       "      <td>VP of Technology</td>\n",
       "    </tr>\n",
       "    <tr>\n",
       "      <td>2</td>\n",
       "      <td>3</td>\n",
       "      <td>doogle</td>\n",
       "      <td>Jane Doe</td>\n",
       "      <td>CEO</td>\n",
       "    </tr>\n",
       "    <tr>\n",
       "      <td>3</td>\n",
       "      <td>4</td>\n",
       "      <td>doogle</td>\n",
       "      <td>John Smith</td>\n",
       "      <td>VP of Technology</td>\n",
       "    </tr>\n",
       "  </tbody>\n",
       "</table>\n",
       "</div>"
      ],
      "text/plain": [
       "   id company_name        name              role\n",
       "0   1     headbook  John Smith               CEO\n",
       "1   2     headbook    Jane Doe  VP of Technology\n",
       "2   3       doogle    Jane Doe               CEO\n",
       "3   4       doogle  John Smith  VP of Technology"
      ]
     },
     "execution_count": 7,
     "metadata": {},
     "output_type": "execute_result"
    }
   ],
   "source": [
    "sql = '''SELECT * FROM employee;'''\n",
    "read_try(sql)"
   ]
  },
  {
   "cell_type": "markdown",
   "metadata": {},
   "source": [
    "If you want to delete the table, delete the _employee_ table first, since there are constraints on the _employee_ table to the _company_ table. Then delete the _company_ table."
   ]
  },
  {
   "cell_type": "code",
   "execution_count": 8,
   "metadata": {},
   "outputs": [
    {
     "data": {
      "text/plain": [
       "True"
      ]
     },
     "execution_count": 8,
     "metadata": {},
     "output_type": "execute_result"
    }
   ],
   "source": [
    "sql = '''DROP TABLE employee'''\n",
    "write_try(sql)\n",
    "\n",
    "sql = '''DROP TABLE company'''\n",
    "write_try(sql)"
   ]
  }
 ],
 "metadata": {
  "kernelspec": {
   "display_name": "Python 3",
   "language": "python",
   "name": "python3"
  },
  "language_info": {
   "codemirror_mode": {
    "name": "ipython",
    "version": 3
   },
   "file_extension": ".py",
   "mimetype": "text/x-python",
   "name": "python",
   "nbconvert_exporter": "python",
   "pygments_lexer": "ipython3",
   "version": "3.7.4"
  }
 },
 "nbformat": 4,
 "nbformat_minor": 2
}
